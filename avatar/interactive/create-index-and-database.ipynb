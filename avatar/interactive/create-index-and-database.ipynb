{
  "cells": [
    {
      "cell_type": "markdown",
      "metadata": {},
      "source": [
        "# Create ACS Index and Azure SQL Database for Avatar Demo\n",
        "Use this notebook to create an Azure Cognitive Search Index and an Azure SQL Database and populate demo content for the Avatar outdoor shop application.  \n",
        "\n",
        "Ensure that you have the the Microsoft ODBC driver for SQL Server installed. Here are the instructions for Linux based systems:  \n",
        "https://learn.microsoft.com/en-us/sql/connect/odbc/linux-mac/installing-the-microsoft-odbc-driver-for-sql-server?view=sql-server-ver16&tabs=ubuntu18-install%2Calpine17-install%2Cdebian8-install%2Credhat7-13-install%2Crhel7-offline#18\n"
      ]
    },
    {
      "cell_type": "markdown",
      "metadata": {
        "nteract": {
          "transient": {
            "deleting": false
          }
        }
      },
      "source": [
        "## Setup"
      ]
    },
    {
      "cell_type": "code",
      "execution_count": 191,
      "metadata": {
        "gather": {
          "logged": 1700038369590
        }
      },
      "outputs": [
        {
          "name": "stdout",
          "output_type": "stream",
          "text": [
            "Requirement already satisfied: azure-search-documents==11.4.0b6 in c:\\work\\source\\sahelavatar\\myenv\\lib\\site-packages (11.4.0b6)\n",
            "Requirement already satisfied: openai==0.28.1 in c:\\work\\source\\sahelavatar\\myenv\\lib\\site-packages (0.28.1)\n",
            "Requirement already satisfied: tenacity in c:\\work\\source\\sahelavatar\\myenv\\lib\\site-packages (8.2.3)\n",
            "Requirement already satisfied: pyodbc in c:\\work\\source\\sahelavatar\\myenv\\lib\\site-packages (5.0.1)\n",
            "Requirement already satisfied: pandas in c:\\work\\source\\sahelavatar\\myenv\\lib\\site-packages (2.1.4)\n",
            "Requirement already satisfied: azure-core<2.0.0,>=1.24.0 in c:\\work\\source\\sahelavatar\\myenv\\lib\\site-packages (from azure-search-documents==11.4.0b6) (1.29.6)\n",
            "Requirement already satisfied: azure-common~=1.1 in c:\\work\\source\\sahelavatar\\myenv\\lib\\site-packages (from azure-search-documents==11.4.0b6) (1.1.28)\n",
            "Requirement already satisfied: isodate>=0.6.0 in c:\\work\\source\\sahelavatar\\myenv\\lib\\site-packages (from azure-search-documents==11.4.0b6) (0.6.1)\n",
            "Requirement already satisfied: requests>=2.20 in c:\\work\\source\\sahelavatar\\myenv\\lib\\site-packages (from openai==0.28.1) (2.31.0)\n",
            "Requirement already satisfied: tqdm in c:\\work\\source\\sahelavatar\\myenv\\lib\\site-packages (from openai==0.28.1) (4.66.1)\n",
            "Requirement already satisfied: aiohttp in c:\\work\\source\\sahelavatar\\myenv\\lib\\site-packages (from openai==0.28.1) (3.9.1)\n",
            "Requirement already satisfied: numpy<2,>=1.23.2 in c:\\work\\source\\sahelavatar\\myenv\\lib\\site-packages (from pandas) (1.26.3)\n",
            "Requirement already satisfied: python-dateutil>=2.8.2 in c:\\work\\source\\sahelavatar\\myenv\\lib\\site-packages (from pandas) (2.8.2)\n",
            "Requirement already satisfied: pytz>=2020.1 in c:\\work\\source\\sahelavatar\\myenv\\lib\\site-packages (from pandas) (2023.3.post1)\n",
            "Requirement already satisfied: tzdata>=2022.1 in c:\\work\\source\\sahelavatar\\myenv\\lib\\site-packages (from pandas) (2023.4)\n",
            "Requirement already satisfied: anyio<5.0,>=3.0 in c:\\work\\source\\sahelavatar\\myenv\\lib\\site-packages (from azure-core<2.0.0,>=1.24.0->azure-search-documents==11.4.0b6) (4.2.0)\n",
            "Requirement already satisfied: six>=1.11.0 in c:\\work\\source\\sahelavatar\\myenv\\lib\\site-packages (from azure-core<2.0.0,>=1.24.0->azure-search-documents==11.4.0b6) (1.16.0)\n",
            "Requirement already satisfied: typing-extensions>=4.6.0 in c:\\work\\source\\sahelavatar\\myenv\\lib\\site-packages (from azure-core<2.0.0,>=1.24.0->azure-search-documents==11.4.0b6) (4.9.0)\n",
            "Requirement already satisfied: charset-normalizer<4,>=2 in c:\\work\\source\\sahelavatar\\myenv\\lib\\site-packages (from requests>=2.20->openai==0.28.1) (3.3.2)\n",
            "Requirement already satisfied: idna<4,>=2.5 in c:\\work\\source\\sahelavatar\\myenv\\lib\\site-packages (from requests>=2.20->openai==0.28.1) (3.6)\n",
            "Requirement already satisfied: urllib3<3,>=1.21.1 in c:\\work\\source\\sahelavatar\\myenv\\lib\\site-packages (from requests>=2.20->openai==0.28.1) (2.1.0)\n",
            "Requirement already satisfied: certifi>=2017.4.17 in c:\\work\\source\\sahelavatar\\myenv\\lib\\site-packages (from requests>=2.20->openai==0.28.1) (2023.11.17)\n",
            "Requirement already satisfied: attrs>=17.3.0 in c:\\work\\source\\sahelavatar\\myenv\\lib\\site-packages (from aiohttp->openai==0.28.1) (23.2.0)\n",
            "Requirement already satisfied: multidict<7.0,>=4.5 in c:\\work\\source\\sahelavatar\\myenv\\lib\\site-packages (from aiohttp->openai==0.28.1) (6.0.4)\n",
            "Requirement already satisfied: yarl<2.0,>=1.0 in c:\\work\\source\\sahelavatar\\myenv\\lib\\site-packages (from aiohttp->openai==0.28.1) (1.9.4)\n",
            "Requirement already satisfied: frozenlist>=1.1.1 in c:\\work\\source\\sahelavatar\\myenv\\lib\\site-packages (from aiohttp->openai==0.28.1) (1.4.1)\n",
            "Requirement already satisfied: aiosignal>=1.1.2 in c:\\work\\source\\sahelavatar\\myenv\\lib\\site-packages (from aiohttp->openai==0.28.1) (1.3.1)\n",
            "Requirement already satisfied: colorama in c:\\work\\source\\sahelavatar\\myenv\\lib\\site-packages (from tqdm->openai==0.28.1) (0.4.6)\n",
            "Requirement already satisfied: sniffio>=1.1 in c:\\work\\source\\sahelavatar\\myenv\\lib\\site-packages (from anyio<5.0,>=3.0->azure-core<2.0.0,>=1.24.0->azure-search-documents==11.4.0b6) (1.3.0)\n",
            "Note: you may need to restart the kernel to use updated packages.\n"
          ]
        },
        {
          "name": "stderr",
          "output_type": "stream",
          "text": [
            "\n",
            "[notice] A new release of pip is available: 23.2.1 -> 23.3.2\n",
            "[notice] To update, run: python.exe -m pip install --upgrade pip\n"
          ]
        }
      ],
      "source": [
        "# Install the required libraries\n",
        "%pip install azure-search-documents==11.4.0b6 openai==0.28.1 tenacity pyodbc pandas"
      ]
    },
    {
      "cell_type": "code",
      "execution_count": 192,
      "metadata": {
        "gather": {
          "logged": 1700038372029
        }
      },
      "outputs": [],
      "source": [
        "import os\n",
        "import json  \n",
        "import pandas as pd\n",
        "\n",
        "import pyodbc\n",
        "import requests\n",
        "import inspect\n",
        "\n",
        "import openai  \n",
        "from tenacity import retry, wait_random_exponential, stop_after_attempt  \n",
        "from azure.core.credentials import AzureKeyCredential  \n",
        "from azure.search.documents import SearchClient  \n",
        "from azure.search.documents.indexes import SearchIndexClient  \n",
        "from azure.search.documents.models import Vector  \n",
        "from azure.search.documents.indexes.models import (  \n",
        "    SearchIndex,  \n",
        "    SearchField,  \n",
        "    SearchFieldDataType,  \n",
        "    SimpleField,  \n",
        "    SearchableField,  \n",
        "    SearchIndex,  \n",
        "    SemanticConfiguration,  \n",
        "    PrioritizedFields,  \n",
        "    SemanticField,  \n",
        "    SearchField,  \n",
        "    SemanticSettings,  \n",
        "    VectorSearch,  \n",
        "    VectorSearchAlgorithmConfiguration,  \n",
        ")  "
      ]
    },
    {
      "cell_type": "markdown",
      "metadata": {
        "nteract": {
          "transient": {
            "deleting": false
          }
        }
      },
      "source": [
        "You need to have the following settings for your Azure resources defined in the `local.settings.json` file in the __api__ subfolder to populate the demo content for the outdoor app:"
      ]
    },
    {
      "cell_type": "code",
      "execution_count": 193,
      "metadata": {
        "gather": {
          "logged": 1700038375485
        },
        "jupyter": {
          "outputs_hidden": false,
          "source_hidden": false
        },
        "nteract": {
          "transient": {
            "deleting": false
          }
        }
      },
      "outputs": [],
      "source": [
        "# Load JSON file\n",
        "with open('./api/local.settings.json', 'r') as file:\n",
        "    data = json.load(file)\n",
        "\n",
        "# Azure Cognitive Search\n",
        "service_endpoint = data[\"Values\"][\"AZURE_SEARCH_ENDPOINT\"]\n",
        "key = data[\"Values\"][\"AZURE_SEARCH_API_KEY\"]\n",
        "index_name = data[\"Values\"][\"AZURE_SEARCH_INDEX\"]\n",
        "\n",
        "# Blob SAS URL for Azure Storage Account\n",
        "blob_sas_url = data[\"Values\"][\"BLOB_SAS_URL\"]\n",
        "\n",
        "# Azure OpenAI\n",
        "openai.api_type = \"azure\"\n",
        "openai.api_key = data[\"Values\"][\"AZURE_OPENAI_API_KEY\"]\n",
        "openai.api_base = data[\"Values\"][\"AZURE_OPENAI_ENDPOINT\"]\n",
        "openai.api_version = data[\"Values\"][\"AZURE_OPENAI_API_VERSION\"]\n",
        "AOAI_embeddings_deployment = data[\"Values\"][\"AZURE_OPENAI_EMBEDDINGS_DEPLOYMENT\"]\n",
        "\n",
        "# Azure SQL Database\n",
        "sql_db_server = data[\"Values\"][\"SQL_DB_SERVER\"]\n",
        "sql_db_user = data[\"Values\"][\"SQL_DB_USER\"]\n",
        "sql_db_password = data[\"Values\"][\"SQL_DB_PASSWORD\"]\n",
        "sql_db_name = data[\"Values\"][\"SQL_DB_NAME\"]"
      ]
    },
    {
      "cell_type": "markdown",
      "metadata": {},
      "source": [
        "## Create Cognitive Search Index\n",
        "First, we create a new Index with demo data to the Cognitive Search service that you have deployed manually."
      ]
    },
    {
      "cell_type": "code",
      "execution_count": 194,
      "metadata": {
        "gather": {
          "logged": 1699873170121
        },
        "jupyter": {
          "outputs_hidden": false,
          "source_hidden": false
        },
        "nteract": {
          "transient": {
            "deleting": false
          }
        }
      },
      "outputs": [
        {
          "data": {
            "text/html": [
              "<div>\n",
              "<style scoped>\n",
              "    .dataframe tbody tr th:only-of-type {\n",
              "        vertical-align: middle;\n",
              "    }\n",
              "\n",
              "    .dataframe tbody tr th {\n",
              "        vertical-align: top;\n",
              "    }\n",
              "\n",
              "    .dataframe thead th {\n",
              "        text-align: right;\n",
              "    }\n",
              "</style>\n",
              "<table border=\"1\" class=\"dataframe\">\n",
              "  <thead>\n",
              "    <tr style=\"text-align: right;\">\n",
              "      <th></th>\n",
              "      <th>CID</th>\n",
              "      <th>FirstName</th>\n",
              "      <th>SecondName</th>\n",
              "      <th>ThirdName</th>\n",
              "      <th>LastName</th>\n",
              "      <th>Nationality</th>\n",
              "      <th>DOB</th>\n",
              "      <th>Governorate</th>\n",
              "      <th>Area</th>\n",
              "      <th>Block</th>\n",
              "      <th>Street</th>\n",
              "      <th>Building</th>\n",
              "      <th>Gender</th>\n",
              "    </tr>\n",
              "  </thead>\n",
              "  <tbody>\n",
              "    <tr>\n",
              "      <th>0</th>\n",
              "      <td>229897660</td>\n",
              "      <td>Ali</td>\n",
              "      <td>Abdullatif</td>\n",
              "      <td>Hussien</td>\n",
              "      <td>Safar</td>\n",
              "      <td>Kuwaiti</td>\n",
              "      <td>22/3/1983</td>\n",
              "      <td>Mubarak Al -Kabeer</td>\n",
              "      <td>Adan</td>\n",
              "      <td>3</td>\n",
              "      <td>23</td>\n",
              "      <td>10</td>\n",
              "      <td>Male</td>\n",
              "    </tr>\n",
              "    <tr>\n",
              "      <th>1</th>\n",
              "      <td>229897661</td>\n",
              "      <td>Mohammad</td>\n",
              "      <td>Nasser</td>\n",
              "      <td>Ahamd</td>\n",
              "      <td>Salem</td>\n",
              "      <td>Kuwaiti</td>\n",
              "      <td>19/5/1984</td>\n",
              "      <td>Hawally</td>\n",
              "      <td>Rumithiya</td>\n",
              "      <td>1</td>\n",
              "      <td>45</td>\n",
              "      <td>4</td>\n",
              "      <td>Male</td>\n",
              "    </tr>\n",
              "    <tr>\n",
              "      <th>2</th>\n",
              "      <td>229897662</td>\n",
              "      <td>Abdulla</td>\n",
              "      <td>Hussien</td>\n",
              "      <td>Khaled</td>\n",
              "      <td>Yousef</td>\n",
              "      <td>Kuwaiti</td>\n",
              "      <td>21/12/1985</td>\n",
              "      <td>Mubarak Al -Kabeer</td>\n",
              "      <td>Sabah Al Salem</td>\n",
              "      <td>4</td>\n",
              "      <td>67</td>\n",
              "      <td>10</td>\n",
              "      <td>Male</td>\n",
              "    </tr>\n",
              "    <tr>\n",
              "      <th>3</th>\n",
              "      <td>229897663</td>\n",
              "      <td>Mariam</td>\n",
              "      <td>Hassan</td>\n",
              "      <td>Fawaz</td>\n",
              "      <td>Ibrahim</td>\n",
              "      <td>Kuwaiti</td>\n",
              "      <td>11/1/1986</td>\n",
              "      <td>Assimah</td>\n",
              "      <td>Mansouriya</td>\n",
              "      <td>12</td>\n",
              "      <td>1</td>\n",
              "      <td>5</td>\n",
              "      <td>Female</td>\n",
              "    </tr>\n",
              "    <tr>\n",
              "      <th>4</th>\n",
              "      <td>229897664</td>\n",
              "      <td>Ali</td>\n",
              "      <td>Yasser</td>\n",
              "      <td>Nasser</td>\n",
              "      <td>Alaa</td>\n",
              "      <td>Kuwaiti</td>\n",
              "      <td>17/4/1987</td>\n",
              "      <td>Farwaniya</td>\n",
              "      <td>Khyitan</td>\n",
              "      <td>5</td>\n",
              "      <td>15</td>\n",
              "      <td>12</td>\n",
              "      <td>Male</td>\n",
              "    </tr>\n",
              "  </tbody>\n",
              "</table>\n",
              "</div>"
            ],
            "text/plain": [
              "         CID FirstName  SecondName ThirdName LastName Nationality         DOB  \\\n",
              "0  229897660       Ali  Abdullatif   Hussien    Safar     Kuwaiti   22/3/1983   \n",
              "1  229897661  Mohammad      Nasser     Ahamd    Salem     Kuwaiti   19/5/1984   \n",
              "2  229897662   Abdulla     Hussien    Khaled   Yousef     Kuwaiti  21/12/1985   \n",
              "3  229897663    Mariam      Hassan     Fawaz  Ibrahim     Kuwaiti   11/1/1986   \n",
              "4  229897664       Ali      Yasser    Nasser     Alaa     Kuwaiti   17/4/1987   \n",
              "\n",
              "          Governorate            Area  Block  Street  Building  Gender  \n",
              "0  Mubarak Al -Kabeer            Adan      3      23        10    Male  \n",
              "1             Hawally       Rumithiya      1      45         4    Male  \n",
              "2  Mubarak Al -Kabeer  Sabah Al Salem      4      67        10    Male  \n",
              "3             Assimah      Mansouriya     12       1         5  Female  \n",
              "4           Farwaniya         Khyitan      5      15        12    Male  "
            ]
          },
          "metadata": {},
          "output_type": "display_data"
        }
      ],
      "source": [
        "credential = AzureKeyCredential(key)\n",
        "\n",
        "df = pd.read_csv('data/citizens-mock-data.csv', dtype={'CID': str})\n",
        "display(df.head())\n",
        "input_data = df.to_dict(orient='records')"
      ]
    },
    {
      "cell_type": "code",
      "execution_count": 195,
      "metadata": {
        "gather": {
          "logged": 1699873170374
        }
      },
      "outputs": [],
      "source": [
        "@retry(wait=wait_random_exponential(min=1, max=20), stop=stop_after_attempt(6))\n",
        "# Function to generate embeddings for title and content fields, also used for query embeddings\n",
        "def generate_embeddings(text):\n",
        "    response = openai.Embedding.create(\n",
        "        input=text, engine=AOAI_embeddings_deployment)\n",
        "    embeddings = response['data'][0]['embedding']\n",
        "    return embeddings"
      ]
    },
    {
      "cell_type": "code",
      "execution_count": 196,
      "metadata": {
        "gather": {
          "logged": 1699873171802
        },
        "jupyter": {
          "outputs_hidden": false,
          "source_hidden": false
        },
        "nteract": {
          "transient": {
            "deleting": false
          }
        }
      },
      "outputs": [],
      "source": [
        "# Generate embeddings for title and content fields\n",
        "for item in input_data:\n",
        "    firstName = str(item['FirstName'])\n",
        "    secondName = str(item['SecondName'])\n",
        "    thirdName = str(item['ThirdName'])\n",
        "    lastName = str(item['LastName'])\n",
        "\n",
        "    fullName = firstName + ' ' + secondName + ' ' + thirdName + ' ' + lastName  \n",
        "    \n",
        "    governorate = str(item['Governorate'])\n",
        "    area = str(item['Area'])\n",
        "    block = str(item['Block'])\n",
        "    street = str(item['Street'])\n",
        "    building = str(item['Building'])\n",
        "    \n",
        "    address = governorate + ' ' + area + ' ' + block + ' ' + street + ' ' + building\n",
        "\n",
        "    fullName_embeddings = generate_embeddings(fullName)\n",
        "    address_embeddings = generate_embeddings(address)\n",
        "\n",
        "    item['Area'] = area\n",
        "    item['Block'] = block\n",
        "    item['Street'] = street\n",
        "    item['Building'] = building\n",
        "\n",
        "    item['Name'] = fullName\n",
        "    item['Address'] = address\n",
        "    \n",
        "    item['fullName_vector'] = fullName_embeddings\n",
        "    item['address_vector'] = address_embeddings\n"
      ]
    },
    {
      "cell_type": "code",
      "execution_count": 197,
      "metadata": {
        "gather": {
          "logged": 1699873171984
        }
      },
      "outputs": [],
      "source": [
        "# Output embeddings to docVectors.json file\n",
        "with open(\"./data/citizens-mock-data-vectors.json\", \"w\") as f:\n",
        "    json.dump(input_data, f)"
      ]
    },
    {
      "cell_type": "code",
      "execution_count": 198,
      "metadata": {
        "gather": {
          "logged": 1699873172252
        }
      },
      "outputs": [
        {
          "name": "stdout",
          "output_type": "stream",
          "text": [
            "Deleting existing index...\n"
          ]
        }
      ],
      "source": [
        "# Delete ACS index if it exists\n",
        "index_client = SearchIndexClient(endpoint=service_endpoint, credential=credential)\n",
        "\n",
        "try:\n",
        "    if index_client.get_index(index_name):\n",
        "        print('Deleting existing index...')\n",
        "        index_client.delete_index(index_name)\n",
        "\n",
        "except:\n",
        "    print('Index does not exist. No need to delete it.')"
      ]
    },
    {
      "cell_type": "code",
      "execution_count": 199,
      "metadata": {
        "gather": {
          "logged": 1699873172892
        }
      },
      "outputs": [
        {
          "name": "stdout",
          "output_type": "stream",
          "text": [
            " citizens created\n"
          ]
        }
      ],
      "source": [
        "# Create a search index\n",
        "index_client = SearchIndexClient(endpoint=service_endpoint, credential=credential)\n",
        "\n",
        "fields = [\n",
        "    SimpleField(name=\"CID\", type=SearchFieldDataType.String, key=True, sortable=True, filterable=True, facetable=True),\n",
        "    SearchableField(name=\"FirstName\", type=SearchFieldDataType.String),\n",
        "    SearchableField(name=\"SecondName\", type=SearchFieldDataType.String),\n",
        "    SearchableField(name=\"ThirdName\", type=SearchFieldDataType.String),\n",
        "    SearchableField(name=\"LastName\", type=SearchFieldDataType.String),\n",
        "    SearchableField(name=\"Name\", type=SearchFieldDataType.String),\n",
        "    SearchableField(name=\"Nationality\", type=SearchFieldDataType.String),\n",
        "    SearchableField(name=\"DOB\", type=SearchFieldDataType.String),\n",
        "    SearchableField(name=\"Governorate\", type=SearchFieldDataType.String),\n",
        "    SearchableField(name=\"Area\", type=SearchFieldDataType.String),\n",
        "    SearchableField(name=\"Block\", type=SearchFieldDataType.Int32),\n",
        "    SearchableField(name=\"Street\", type=SearchFieldDataType.Int32),\n",
        "    SearchableField(name=\"Building\", type=SearchFieldDataType.Int32),\n",
        "    SearchableField(name=\"Address\", type=SearchFieldDataType.String),\n",
        "    SearchableField(name=\"Gender\", type=SearchFieldDataType.String, filterable=True),\n",
        "    SearchField(name=\"fullName_vector\", type=SearchFieldDataType.Collection(SearchFieldDataType.Single),\n",
        "                searchable=True, vector_search_dimensions=1536, vector_search_configuration=\"my-vector-config\"),\n",
        "    SearchField(name=\"address_vector\", type=SearchFieldDataType.Collection(SearchFieldDataType.Single),\n",
        "                searchable=True, vector_search_dimensions=1536, vector_search_configuration=\"my-vector-config\"),\n",
        "    \n",
        "]\n",
        "\n",
        "vector_search = VectorSearch(\n",
        "    algorithm_configurations=[\n",
        "        VectorSearchAlgorithmConfiguration(\n",
        "            name=\"my-vector-config\",\n",
        "            kind=\"hnsw\",\n",
        "            hnsw_parameters={\n",
        "                \"m\": 4,\n",
        "                \"efConstruction\": 400,\n",
        "                \"efSearch\": 500,\n",
        "                \"metric\": \"cosine\"\n",
        "            }\n",
        "        )\n",
        "    ]\n",
        ")\n",
        "\n",
        "semantic_config = SemanticConfiguration(\n",
        "    name=\"my-semantic-config\",\n",
        "    prioritized_fields=PrioritizedFields(\n",
        "        title_field=SemanticField(field_name=\"Name\"),\n",
        "        prioritized_keywords_fields=[SemanticField(field_name=\"CID\")],\n",
        "        prioritized_content_fields=[SemanticField(field_name=\"Address\")]\n",
        "    )\n",
        ")\n",
        "\n",
        "# Create the semantic settings with the configuration\n",
        "semantic_settings = SemanticSettings(configurations=[semantic_config])\n",
        "\n",
        "# Create the search index with the semantic settings\n",
        "index = SearchIndex(name=index_name, fields=fields,\n",
        "                    vector_search=vector_search, semantic_settings=semantic_settings)\n",
        "result = index_client.create_or_update_index(index)\n",
        "print(f' {result.name} created')"
      ]
    },
    {
      "cell_type": "code",
      "execution_count": 200,
      "metadata": {
        "gather": {
          "logged": 1699873173454
        }
      },
      "outputs": [
        {
          "name": "stdout",
          "output_type": "stream",
          "text": [
            "Uploaded 9 documents\n"
          ]
        }
      ],
      "source": [
        "# Upload documents to the index\n",
        "with open(\"./data/citizens-mock-data-vectors.json\", 'r') as file:  \n",
        "    documents = json.load(file)  \n",
        "search_client = SearchClient(endpoint=service_endpoint, index_name=index_name, credential=credential)\n",
        "result = search_client.upload_documents(documents)  \n",
        "print(f\"Uploaded {len(documents)} documents\") "
      ]
    },
    {
      "cell_type": "markdown",
      "metadata": {
        "nteract": {
          "transient": {
            "deleting": false
          }
        }
      },
      "source": [
        "## Perform Test Queries\n",
        "We are performing a few test queries against the Cognitive Search index. If successful, it should display outdoor product information and images."
      ]
    },
    {
      "cell_type": "code",
      "execution_count": 201,
      "metadata": {
        "gather": {
          "logged": 1699873173581
        }
      },
      "outputs": [],
      "source": [
        "search_client = SearchClient(service_endpoint, index_name, credential=credential)  \n",
        "fields_of_interest = [\"CID\", \"Name\", \"Address\", \"DOB\", \"Nationality\", \"Gendor\"]"
      ]
    },
    {
      "cell_type": "code",
      "execution_count": 202,
      "metadata": {
        "gather": {
          "logged": 1699873175487
        }
      },
      "outputs": [],
      "source": [
        "# import requests\n",
        "# from matplotlib import pyplot as plt\n",
        "# from io import BytesIO\n",
        "\n",
        "# def display_image_from_blob(image_file):\n",
        "   \n",
        "#   print(f\"Image File: {image_file}\")\n",
        "#   print(f\"blob_sas_url: {blob_sas_url}\")\n",
        "#   print(f\"blob_sas_url.split()[0]: {blob_sas_url.split(\"?\")[0]}\")\n",
        "#   #print(f\"blob_sas_url.split()[1]: {blob_sas_url.split(\"?\")[1]}\")\n",
        "  \n",
        "#   # Append the image name to the SAS URL\n",
        "#   image_url = blob_sas_url.split(\"?\")[0] + f\"/{image_file}?\" # + blob_sas_url.split(\"?\")[1]\n",
        "\n",
        "#   # Get the image content\n",
        "#   response = requests.get(image_url)\n",
        "\n",
        "#   # Check if the request was successful\n",
        "#   if response.status_code == 200:\n",
        "#       # Open the image and display it\n",
        "#       img = plt.imread(BytesIO(response.content))\n",
        "#       plt.imshow(img)\n",
        "#       plt.axis('off') # No axes for this plot\n",
        "#       plt.show()\n",
        "#   else:\n",
        "#       print(f\"Failed to retrieve image. HTTP Status code: {response.status_code}\")\n",
        "\n",
        "# def print_results(results):  \n",
        "#   for result in results:  \n",
        "#     print(f\"Score: {result['@search.score']}\")\n",
        "#     print(f\"Name: {result['name']}\")  \n",
        "#     print(f\"Category: {result['category']}\")\n",
        "#     print(f\"Tagline: {result['tagline']}\")\n",
        "#     print(f\"Description: {result['description'][:50]}\")\n",
        "#     print(f\"Original price: {result['original_price']}\")\n",
        "#     print(f\"Special offer: {result['special_offer']}\")\n",
        "#     print(f\"Image file: {result['product_image_file']}\\n\")\n",
        "#     display_image_from_blob(result['product_image_file'])\n",
        "\n",
        "\n",
        "# # Pure Vector Search with Filter\n",
        "# query = \"tent for two people\"  \n",
        " \n",
        "# results = search_client.search(  \n",
        "#     search_text=None,  \n",
        "#     vector=generate_embeddings(query), top_k=3,  \n",
        "#     vector_fields=\"description_vector\",\n",
        "#     filter=\"category eq 'outdoor'\",\n",
        "#     select= fields_of_interest\n",
        "# )  \n",
        "  \n",
        "# print_results(results)"
      ]
    },
    {
      "cell_type": "markdown",
      "metadata": {},
      "source": [
        "## Create Azure SQL Database\n",
        "Now we are creating a small Azure SQL Database with customer, products and order data using the SQL Server that you have deployed manually."
      ]
    },
    {
      "cell_type": "code",
      "execution_count": 203,
      "metadata": {
        "gather": {
          "logged": 1699873175635
        }
      },
      "outputs": [],
      "source": [
        "# Connection Strings\n",
        "server_connection_string = f\"Driver={{ODBC Driver 18 for SQL Server}};Server=tcp:{sql_db_server},1433;Uid={sql_db_user};Pwd={sql_db_password};Encrypt=yes;TrustServerCertificate=no;Connection Timeout=30;\"\n",
        "database_connection_string = server_connection_string + f\"Database={sql_db_name};\""
      ]
    },
    {
      "cell_type": "code",
      "execution_count": 204,
      "metadata": {
        "gather": {
          "logged": 1699873175773
        }
      },
      "outputs": [],
      "source": [
        "import random\n",
        "\n",
        "citizens = [\n",
        "    {\"Name\": \"Ali Safar\", \"CID\": \"229897660\", \"Password\" : \"P@ssw0rd\"},\n",
        "    {\"Name\": \"Mohammad Salem\", \"CID\": \"229897661\", \"Password\" : \"P@ssw0rd\"},\n",
        "    {\"Name\": \"Abdulla Yousef\", \"CID\": \"229897662\", \"Password\" : \"P@ssw0rd\"},\n",
        "    {\"Name\": \"Mariam Ibrahim\", \"CID\": \"229897663\", \"Password\" : \"P@ssw0rd\"},\n",
        "    {\"Name\": \"Ali Alaa\", \"CID\": \"229897664\", \"Password\" : \"P@ssw0rd\"},\n",
        "    {\"Name\": \"Ibrahim Ayoub\", \"CID\": \"229897665\", \"Password\" : \"P@ssw0rd\"},\n",
        "    {\"Name\": \"Nour Ahmad\", \"CID\": \"229897666\", \"Password\" : \"P@ssw0rd\"},\n",
        "    {\"Name\": \"Abrar Salem\", \"CID\": \"229897667\", \"Password\" : \"P@ssw0rd\"},\n",
        "    {\"Name\": \"Younes Jawad\", \"CID\": \"229897668\", \"Password\" : \"P@ssw0rd\"},\n",
        "]\n",
        "\n",
        "documents = [\n",
        "    {\"CID\": \"229897660\", \"Category\": \"Passport\", \"IssueDate\": \"7/14/2018\", \"ExpiryDate\": \"7/13/2023\", \"DocumentNumber\": \"H12P02\"},\n",
        "    {\"CID\": \"229897661\", \"Category\": \"Passport\", \"IssueDate\": \"7/14/2019\", \"ExpiryDate\": \"7/13/2023\", \"DocumentNumber\": \"H12P03\"},\n",
        "    {\"CID\": \"229897662\", \"Category\": \"Passport\", \"IssueDate\": \"7/14/2020\", \"ExpiryDate\": \"7/13/2023\", \"DocumentNumber\": \"H12P04\"},\n",
        "    {\"CID\": \"229897663\", \"Category\": \"Passport\", \"IssueDate\": \"7/14/2021\", \"ExpiryDate\": \"7/13/2033\", \"DocumentNumber\": \"H12P05\"},\n",
        "    {\"CID\": \"229897664\", \"Category\": \"Passport\", \"IssueDate\": \"7/14/2022\", \"ExpiryDate\": \"7/13/2033\", \"DocumentNumber\": \"H12P06\"},\n",
        "    {\"CID\": \"229897665\", \"Category\": \"Passport\", \"IssueDate\": \"1/14/2023\", \"ExpiryDate\": \"7/13/2033\", \"DocumentNumber\": \"H12P07\"},\n",
        "    {\"CID\": \"229897666\", \"Category\": \"Passport\", \"IssueDate\": \"2/14/2023\", \"ExpiryDate\": \"7/13/2033\", \"DocumentNumber\": \"H12P08\"},\n",
        "    {\"CID\": \"229897667\", \"Category\": \"Passport\", \"IssueDate\": \"3/14/2023\", \"ExpiryDate\": \"7/13/2033\", \"DocumentNumber\": \"H12P09\"},\n",
        "    {\"CID\": \"229897668\", \"Category\": \"Passport\", \"IssueDate\": \"4/14/2023\", \"ExpiryDate\": \"7/13/2033\", \"DocumentNumber\": \"H12P10\"},\n",
        "\n",
        "    {\"CID\": \"229897660\", \"Category\": \"CivilID\", \"IssueDate\": \"7/14/2018\", \"ExpiryDate\": \"7/13/2023\", \"DocumentNumber\": \"229897660\"},\n",
        "    {\"CID\": \"229897661\", \"Category\": \"CivilID\", \"IssueDate\": \"7/14/2019\", \"ExpiryDate\": \"7/13/2023\", \"DocumentNumber\": \"229897661\"},\n",
        "    {\"CID\": \"229897662\", \"Category\": \"CivilID\", \"IssueDate\": \"7/14/2020\", \"ExpiryDate\": \"7/13/2023\", \"DocumentNumber\": \"229897662\"},\n",
        "    {\"CID\": \"229897663\", \"Category\": \"CivilID\", \"IssueDate\": \"7/14/2021\", \"ExpiryDate\": \"7/13/2033\", \"DocumentNumber\": \"229897663\"},\n",
        "    {\"CID\": \"229897664\", \"Category\": \"CivilID\", \"IssueDate\": \"7/14/2022\", \"ExpiryDate\": \"7/13/2033\", \"DocumentNumber\": \"229897664\"},\n",
        "    {\"CID\": \"229897665\", \"Category\": \"CivilID\", \"IssueDate\": \"1/14/2023\", \"ExpiryDate\": \"7/13/2033\", \"DocumentNumber\": \"229897665\"},\n",
        "    {\"CID\": \"229897666\", \"Category\": \"CivilID\", \"IssueDate\": \"2/14/2023\", \"ExpiryDate\": \"7/13/2033\", \"DocumentNumber\": \"229897666\"},\n",
        "    {\"CID\": \"229897667\", \"Category\": \"CivilID\", \"IssueDate\": \"3/14/2023\", \"ExpiryDate\": \"7/13/2033\", \"DocumentNumber\": \"229897667\"},\n",
        "    {\"CID\": \"229897668\", \"Category\": \"CivilID\", \"IssueDate\": \"4/14/2023\", \"ExpiryDate\": \"7/13/2033\", \"DocumentNumber\": \"229897668\"},\n",
        "\n",
        "    {\"CID\": \"229897660\", \"Category\": \"Driving Licence\", \"IssueDate\": \"7/14/2018\", \"ExpiryDate\": \"7/13/2023\", \"DocumentNumber\": \"98098001\"},\n",
        "    {\"CID\": \"229897661\", \"Category\": \"Driving Licence\", \"IssueDate\": \"7/14/2019\", \"ExpiryDate\": \"7/13/2023\", \"DocumentNumber\": \"98098002\"},\n",
        "    {\"CID\": \"229897662\", \"Category\": \"Driving Licence\", \"IssueDate\": \"7/14/2020\", \"ExpiryDate\": \"7/13/2023\", \"DocumentNumber\": \"98098003\"},\n",
        "    {\"CID\": \"229897663\", \"Category\": \"Driving Licence\", \"IssueDate\": \"7/14/2021\", \"ExpiryDate\": \"7/13/2033\", \"DocumentNumber\": \"98098004\"},\n",
        "    {\"CID\": \"229897664\", \"Category\": \"Driving Licence\", \"IssueDate\": \"7/14/2022\", \"ExpiryDate\": \"7/13/2033\", \"DocumentNumber\": \"98098005\"},\n",
        "    {\"CID\": \"229897665\", \"Category\": \"Driving Licence\", \"IssueDate\": \"1/14/2023\", \"ExpiryDate\": \"7/13/2033\", \"DocumentNumber\": \"98098006\"},\n",
        "    {\"CID\": \"229897666\", \"Category\": \"Driving Licence\", \"IssueDate\": \"2/14/2023\", \"ExpiryDate\": \"7/13/2033\", \"DocumentNumber\": \"98098007\"},\n",
        "    {\"CID\": \"229897667\", \"Category\": \"Driving Licence\", \"IssueDate\": \"3/14/2023\", \"ExpiryDate\": \"7/13/2033\", \"DocumentNumber\": \"98098008\"},\n",
        "    {\"CID\": \"229897668\", \"Category\": \"Driving Licence\", \"IssueDate\": \"4/14/2023\", \"ExpiryDate\": \"7/13/2033\", \"DocumentNumber\": \"98098009\"},\n",
        "   \n",
        "]\n",
        "workPlaces = [\n",
        "    {\"CID\": \"229897660\", \"Company\": \"Microsoft\", \"HireDate\": \"3/22/2013\", \"Salary\": random.randint(1000,50000)},\n",
        "    {\"CID\": \"229897661\", \"Company\": \"Ministry of Finance\", \"HireDate\": \"3/22/2014\", \"Salary\": random.randint(1000,50000)},\n",
        "    {\"CID\": \"229897662\", \"Company\": \"Ministry of Interior\", \"HireDate\": \"3/22/2015\", \"Salary\": random.randint(1000,50000)},\n",
        "    {\"CID\": \"229897663\", \"Company\": \"Ministry of Education\", \"HireDate\": \"3/22/2016\", \"Salary\": random.randint(1000,50000)},\n",
        "    {\"CID\": \"229897664\", \"Company\": \"Retired\", \"HireDate\": \"3/22/2017\", \"Salary\": random.randint(1000,50000)},\n",
        "    {\"CID\": \"229897665\", \"Company\": \"Minitry of Interior\", \"HireDate\": \"3/22/2018\", \"Salary\": random.randint(1000,50000)},\n",
        "    {\"CID\": \"229897666\", \"Company\": \"Student\", \"HireDate\": \"3/22/2019\", \"Salary\": random.randint(1000,50000)},\n",
        "    {\"CID\": \"229897667\", \"Company\": \"Retired\", \"HireDate\": \"3/22/2020\", \"Salary\": random.randint(1000,50000)},\n",
        "    {\"CID\": \"229897668\", \"Company\": \"Minitry of Foriegn Affairs\", \"HireDate\": \"3/22/2021\", \"Salary\": random.randint(1000,50000)},\n",
        "]"
      ]
    },
    {
      "cell_type": "code",
      "execution_count": 205,
      "metadata": {
        "gather": {
          "logged": 1699873175920
        }
      },
      "outputs": [
        {
          "name": "stdout",
          "output_type": "stream",
          "text": [
            "Connection to the server/database was successful!\n"
          ]
        }
      ],
      "source": [
        "# Test connection to the SQL Server\n",
        "\n",
        "try:\n",
        "    # Try to establish a connection\n",
        "    conn = pyodbc.connect(server_connection_string)\n",
        "    \n",
        "    # If connection is successful, print a message and close the connection\n",
        "    print(\"Connection to the server/database was successful!\")\n",
        "    conn.close()\n",
        "    \n",
        "except pyodbc.Error as ex:\n",
        "    # Catch any connection errors and print them\n",
        "    sqlstate = ex.args[0] if len(ex.args) > 0 else None\n",
        "    message = ex.args[1] if len(ex.args) > 1 else None\n",
        "    print(f\"Failed to connect to the server/database. SQLSTATE: {sqlstate}, Message: {message}\")"
      ]
    },
    {
      "cell_type": "code",
      "execution_count": 206,
      "metadata": {
        "gather": {
          "logged": 1699873247080
        }
      },
      "outputs": [
        {
          "ename": "DataError",
          "evalue": "('22007', '[22007] [Microsoft][ODBC Driver 18 for SQL Server][SQL Server]Conversion failed when converting date and/or time from character string. (241) (SQLExecDirectW)')",
          "output_type": "error",
          "traceback": [
            "\u001b[1;31m---------------------------------------------------------------------------\u001b[0m",
            "\u001b[1;31mDataError\u001b[0m                                 Traceback (most recent call last)",
            "Cell \u001b[1;32mIn[206], line 63\u001b[0m\n\u001b[0;32m     53\u001b[0m cursor\u001b[38;5;241m.\u001b[39mexecute(\u001b[38;5;124m\"\"\"\u001b[39m\n\u001b[0;32m     54\u001b[0m \u001b[38;5;124mCREATE TABLE WorkPlaces (\u001b[39m\n\u001b[0;32m     55\u001b[0m \u001b[38;5;124m    CID varchar(12) PRIMARY KEY,\u001b[39m\n\u001b[1;32m   (...)\u001b[0m\n\u001b[0;32m     59\u001b[0m \u001b[38;5;124m)\u001b[39m\n\u001b[0;32m     60\u001b[0m \u001b[38;5;124m\u001b[39m\u001b[38;5;124m\"\"\"\u001b[39m)\n\u001b[0;32m     62\u001b[0m \u001b[38;5;28;01mfor\u001b[39;00m workPlace \u001b[38;5;129;01min\u001b[39;00m workPlaces:\n\u001b[1;32m---> 63\u001b[0m     \u001b[43mcursor\u001b[49m\u001b[38;5;241;43m.\u001b[39;49m\u001b[43mexecute\u001b[49m\u001b[43m(\u001b[49m\u001b[38;5;124;43m\"\u001b[39;49m\u001b[38;5;124;43mINSERT INTO WorkPlaces VALUES (?, ?, ?, ?)\u001b[39;49m\u001b[38;5;124;43m\"\u001b[39;49m\u001b[43m,\u001b[49m\u001b[43m \u001b[49m\n\u001b[0;32m     64\u001b[0m \u001b[43m                \u001b[49m\u001b[43m(\u001b[49m\u001b[43mworkPlace\u001b[49m\u001b[43m[\u001b[49m\u001b[38;5;124;43m\"\u001b[39;49m\u001b[38;5;124;43mCID\u001b[39;49m\u001b[38;5;124;43m\"\u001b[39;49m\u001b[43m]\u001b[49m\u001b[43m,\u001b[49m\u001b[43m \u001b[49m\u001b[43mworkPlace\u001b[49m\u001b[43m[\u001b[49m\u001b[38;5;124;43m\"\u001b[39;49m\u001b[38;5;124;43mCompany\u001b[39;49m\u001b[38;5;124;43m\"\u001b[39;49m\u001b[43m]\u001b[49m\u001b[43m,\u001b[49m\u001b[43m \u001b[49m\u001b[43mworkPlace\u001b[49m\u001b[43m[\u001b[49m\u001b[38;5;124;43m\"\u001b[39;49m\u001b[38;5;124;43mHireDate\u001b[39;49m\u001b[38;5;124;43m\"\u001b[39;49m\u001b[43m]\u001b[49m\u001b[43m,\u001b[49m\u001b[43m \u001b[49m\u001b[43mworkPlace\u001b[49m\u001b[43m[\u001b[49m\u001b[38;5;124;43m\"\u001b[39;49m\u001b[38;5;124;43mSalary\u001b[39;49m\u001b[38;5;124;43m\"\u001b[39;49m\u001b[43m]\u001b[49m\u001b[43m)\u001b[49m\u001b[43m)\u001b[49m\n\u001b[0;32m     66\u001b[0m conn\u001b[38;5;241m.\u001b[39mcommit()\n\u001b[0;32m     68\u001b[0m \u001b[38;5;66;03m#Verify database tables and columns\u001b[39;00m\n",
            "\u001b[1;31mDataError\u001b[0m: ('22007', '[22007] [Microsoft][ODBC Driver 18 for SQL Server][SQL Server]Conversion failed when converting date and/or time from character string. (241) (SQLExecDirectW)')"
          ]
        }
      ],
      "source": [
        "# SET TO TRUE ONLY TO REBUILD DATABASE BASED ON ABOVE SAMPLE DATA\n",
        "rebuild_database = True\n",
        "\n",
        "if rebuild_database:\n",
        "\n",
        "    # Connect to the server without specifying a database\n",
        "    server_conn = pyodbc.connect(server_connection_string, autocommit=True)\n",
        "    server_cursor = server_conn.cursor()\n",
        "\n",
        "    # Drop the database if it exists\n",
        "    server_cursor.execute(f\"IF EXISTS(SELECT * FROM sys.databases WHERE name='{sql_db_name}') DROP DATABASE {sql_db_name}\")\n",
        "\n",
        "    # Recreate the database\n",
        "    server_cursor.execute(f\"CREATE DATABASE {sql_db_name}\")\n",
        "    server_cursor.close()\n",
        "    server_conn.close()\n",
        "\n",
        "    # Now, connect to the newly created database\n",
        "    conn = pyodbc.connect(database_connection_string)\n",
        "    cursor = conn.cursor()\n",
        "\n",
        "    # Ensure you're using the existing database\n",
        "    cursor.execute(f\"USE {sql_db_name}\")\n",
        "\n",
        "    # Create tables and populate them\n",
        "    cursor.execute(\"\"\"\n",
        "    CREATE TABLE Citizens (\n",
        "        Name VARCHAR(255),\n",
        "        CID varchar(12) PRIMARY KEY,\n",
        "        Password varchar(20),\n",
        "    )\n",
        "    \"\"\")\n",
        "\n",
        "    for ctizen in citizens:\n",
        "        cursor.execute(\"INSERT INTO Citizens VALUES (?, ?, ?)\", \n",
        "                    (ctizen[\"Name\"], ctizen[\"CID\"], ctizen[\"Password\"]))\n",
        "\n",
        "    cursor.execute(\"\"\"\n",
        "    CREATE TABLE Documents (\n",
        "        CID varchar(12) ,\n",
        "        Category VARCHAR(50),\n",
        "        IssueDate DATE,\n",
        "        ExpiryDate DATE,\n",
        "        DocumentNumber VARCHAR(50),\n",
        "        PRIMARY KEY (CID, Category)\n",
        "    )\n",
        "    \"\"\")\n",
        "\n",
        "    for document in documents:\n",
        "        cursor.execute(\"INSERT INTO Documents VALUES (?, ?, ?, ?, ?)\", \n",
        "                    (document[\"CID\"], document[\"Category\"], document[\"IssueDate\"], document[\"ExpiryDate\"], document[\"DocumentNumber\"]))\n",
        "\n",
        "    cursor.execute(\"\"\"\n",
        "    CREATE TABLE WorkPlaces (\n",
        "        CID varchar(12) PRIMARY KEY,\n",
        "        Company VARCHAR(50),\n",
        "        HireDate DATE,\n",
        "        Salary DECIMAL(10,2)\n",
        "    )\n",
        "    \"\"\")\n",
        "\n",
        "    for workPlace in workPlaces:\n",
        "        cursor.execute(\"INSERT INTO WorkPlaces VALUES (?, ?, ?, ?)\", \n",
        "                    (workPlace[\"CID\"], workPlace[\"Company\"], workPlace[\"HireDate\"], workPlace[\"Salary\"]))\n",
        "\n",
        "    conn.commit()\n",
        "\n",
        "    #Verify database tables and columns\n",
        "    def fetch_schema_info():\n",
        "        cursor.execute(\"\"\"\n",
        "            SELECT t.TABLE_NAME, c.COLUMN_NAME, c.DATA_TYPE \n",
        "            FROM INFORMATION_SCHEMA.TABLES AS t\n",
        "            JOIN INFORMATION_SCHEMA.COLUMNS AS c ON t.TABLE_NAME = c.TABLE_NAME\n",
        "            WHERE t.TABLE_SCHEMA = 'dbo'  -- assuming you're using the default schema\n",
        "            ORDER BY t.TABLE_NAME, c.ORDINAL_POSITION\n",
        "        \"\"\")\n",
        "        \n",
        "        tables = {}\n",
        "        for row in cursor.fetchall():\n",
        "            table_name = row[0]\n",
        "            column_name = row[1]\n",
        "            data_type = row[2]\n",
        "            \n",
        "            if table_name not in tables:\n",
        "                tables[table_name] = []\n",
        "            \n",
        "            tables[table_name].append(f\"{column_name} ({data_type})\")\n",
        "        \n",
        "        return tables\n",
        "\n",
        "    schema_info = fetch_schema_info()\n",
        "\n",
        "    # Print the schema info in a user-friendly format\n",
        "    for table, columns in schema_info.items():\n",
        "        print(f\"Table: {table}\")\n",
        "        for col in columns:\n",
        "            print(f\"    {col}\")\n",
        "        print()\n",
        "\n",
        "    # Close connections\n",
        "    cursor.close()\n",
        "    conn.close()"
      ]
    },
    {
      "cell_type": "code",
      "execution_count": null,
      "metadata": {},
      "outputs": [],
      "source": []
    }
  ],
  "metadata": {
    "kernel_info": {
      "name": "python310-sdkv2"
    },
    "kernelspec": {
      "display_name": "Python 3",
      "language": "python",
      "name": "python3"
    },
    "language_info": {
      "codemirror_mode": {
        "name": "ipython",
        "version": 3
      },
      "file_extension": ".py",
      "mimetype": "text/x-python",
      "name": "python",
      "nbconvert_exporter": "python",
      "pygments_lexer": "ipython3",
      "version": "3.11.7"
    },
    "microsoft": {
      "host": {
        "AzureML": {
          "notebookHasBeenCompleted": true
        }
      },
      "ms_spell_check": {
        "ms_spell_check_language": "en"
      }
    },
    "nteract": {
      "version": "nteract-front-end@1.0.0"
    },
    "orig_nbformat": 4
  },
  "nbformat": 4,
  "nbformat_minor": 2
}
